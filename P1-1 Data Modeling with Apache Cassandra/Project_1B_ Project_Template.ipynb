{
 "cells": [
  {
   "cell_type": "markdown",
   "metadata": {},
   "source": [
    "# Part I. ETL Pipeline for Pre-Processing the Files"
   ]
  },
  {
   "cell_type": "markdown",
   "metadata": {},
   "source": [
    "## PLEASE RUN THE FOLLOWING CODE FOR PRE-PROCESSING THE FILES"
   ]
  },
  {
   "cell_type": "markdown",
   "metadata": {},
   "source": [
    "#### Import Python packages "
   ]
  },
  {
   "cell_type": "code",
   "execution_count": 145,
   "metadata": {},
   "outputs": [],
   "source": [
    "# Import Python packages \n",
    "import pandas as pd\n",
    "import cassandra\n",
    "import re\n",
    "import os\n",
    "import glob\n",
    "import numpy as np\n",
    "import json\n",
    "import csv"
   ]
  },
  {
   "cell_type": "markdown",
   "metadata": {},
   "source": [
    "#### Creating list of filepaths to process original event csv data files"
   ]
  },
  {
   "cell_type": "code",
   "execution_count": 146,
   "metadata": {},
   "outputs": [
    {
     "name": "stdout",
     "output_type": "stream",
     "text": [
      "/home/workspace\n"
     ]
    }
   ],
   "source": [
    "# checking your current working directory\n",
    "print(os.getcwd())\n",
    "\n",
    "# Get your current folder and subfolder event data\n",
    "filepath = os.getcwd() + '/event_data'\n",
    "\n",
    "# Create a for loop to create a list of files and collect each filepath\n",
    "for root, dirs, files in os.walk(filepath):\n",
    "    \n",
    "# join the file path and roots with the subdirectories using glob\n",
    "    file_path_list = glob.glob(os.path.join(root,'*'))\n",
    "    #print(file_path_list)"
   ]
  },
  {
   "cell_type": "markdown",
   "metadata": {},
   "source": [
    "#### Processing the files to create the data file csv that will be used for Apache Casssandra tables"
   ]
  },
  {
   "cell_type": "code",
   "execution_count": 147,
   "metadata": {},
   "outputs": [
    {
     "name": "stdout",
     "output_type": "stream",
     "text": [
      "126\n"
     ]
    }
   ],
   "source": [
    "# initiating an empty list of rows that will be generated from each file\n",
    "full_data_rows_list = [] \n",
    "    \n",
    "# for every filepath in the file path list \n",
    "for f in file_path_list:\n",
    "\n",
    "# reading csv file \n",
    "    with open(f, 'r', encoding = 'utf8', newline='') as csvfile: \n",
    "        # creating a csv reader object \n",
    "        csvreader = csv.reader(csvfile) \n",
    "        next(csvreader)\n",
    "        \n",
    " # extracting each data row one by one and append it        \n",
    "        for line in csvreader:\n",
    "            #print(line)\n",
    "            full_data_rows_list.append(line) \n",
    "            \n",
    "# uncomment the code below if you would like to get total number of rows \n",
    "print(len(full_data_rows_list))\n",
    "# uncomment the code below if you would like to check to see what the list of event data rows will look like\n",
    "#print(full_data_rows_list)\n",
    "\n",
    "# creating a smaller event data csv file called event_datafile_full csv that will be used to insert data into the \\\n",
    "# Apache Cassandra tables\n",
    "csv.register_dialect('myDialect', quoting=csv.QUOTE_ALL, skipinitialspace=True)\n",
    "\n",
    "with open('event_datafile_new.csv', 'w', encoding = 'utf8', newline='') as f:\n",
    "    writer = csv.writer(f, dialect='myDialect')\n",
    "    writer.writerow(['artist','firstName','gender','itemInSession','lastName','length',\\\n",
    "                'level','location','sessionId','song','userId'])\n",
    "    for row in full_data_rows_list:\n",
    "        if (row[0] == ''):\n",
    "            continue\n",
    "        writer.writerow((row[0], row[2], row[3], row[4], row[5], row[6], row[7], row[8], row[12], row[13], row[16]))\n"
   ]
  },
  {
   "cell_type": "code",
   "execution_count": 148,
   "metadata": {},
   "outputs": [
    {
     "name": "stdout",
     "output_type": "stream",
     "text": [
      "112\n"
     ]
    }
   ],
   "source": [
    "# check the number of rows in your csv file\n",
    "with open('event_datafile_new.csv', 'r', encoding = 'utf8') as f:\n",
    "    print(sum(1 for line in f))"
   ]
  },
  {
   "cell_type": "markdown",
   "metadata": {},
   "source": [
    "# Part II. Complete the Apache Cassandra coding portion of your project. \n",
    "\n",
    "## Now you are ready to work with the CSV file titled <font color=red>event_datafile_new.csv</font>, located within the Workspace directory.  The event_datafile_new.csv contains the following columns: \n",
    "- artist \n",
    "- firstName of user\n",
    "- gender of user\n",
    "- item number in session\n",
    "- last name of user\n",
    "- length of the song\n",
    "- level (paid or free song)\n",
    "- location of the user\n",
    "- sessionId\n",
    "- song title\n",
    "- userId\n",
    "\n",
    "The image below is a screenshot of what the denormalized data should appear like in the <font color=red>**event_datafile_new.csv**</font> after the code above is run:<br>\n",
    "\n",
    "<img src=\"images/image_event_datafile_new.jpg\">"
   ]
  },
  {
   "cell_type": "markdown",
   "metadata": {},
   "source": [
    "## Begin writing your Apache Cassandra code in the cells below"
   ]
  },
  {
   "cell_type": "markdown",
   "metadata": {},
   "source": [
    "#### Creating a Cluster"
   ]
  },
  {
   "cell_type": "code",
   "execution_count": 149,
   "metadata": {},
   "outputs": [],
   "source": [
    "# This should make a connection to a Cassandra instance your local machine \n",
    "# (127.0.0.1)\n",
    "\n",
    "from cassandra.cluster import Cluster\n",
    "cluster = Cluster()\n",
    "\n",
    "# To establish connection and begin executing queries, need a session\n",
    "session = cluster.connect()"
   ]
  },
  {
   "cell_type": "markdown",
   "metadata": {},
   "source": [
    "#### Create Keyspace"
   ]
  },
  {
   "cell_type": "code",
   "execution_count": 150,
   "metadata": {},
   "outputs": [],
   "source": [
    "# TO-DO: Create a Keyspace \n",
    "try:\n",
    "    session.execute(\"\"\"\n",
    "    CREATE KEYSPACE IF NOT EXISTS sparkifydb \n",
    "    WITH REPLICATION = \n",
    "    { 'class' : 'SimpleStrategy', 'replication_factor' : 1 }\"\"\"\n",
    ")\n",
    "\n",
    "except Exception as e:\n",
    "    print(e)"
   ]
  },
  {
   "cell_type": "markdown",
   "metadata": {},
   "source": [
    "#### Set Keyspace"
   ]
  },
  {
   "cell_type": "code",
   "execution_count": 151,
   "metadata": {},
   "outputs": [],
   "source": [
    "# TO-DO: Set KEYSPACE to the keyspace specified above\n",
    "try:\n",
    "    session.set_keyspace('sparkifydb')\n",
    "except Exception as e:\n",
    "    print(e)"
   ]
  },
  {
   "cell_type": "markdown",
   "metadata": {},
   "source": [
    "### Now we need to create tables to run the following queries. Remember, with Apache Cassandra you model the database tables on the queries you want to run."
   ]
  },
  {
   "cell_type": "markdown",
   "metadata": {},
   "source": [
    "## Create queries to ask the following three questions of the data\n",
    "\n",
    "### 1. Give me the artist, song title and song's length in the music app history that was heard during  sessionId = 338, and itemInSession  = 4\n",
    "\n",
    "\n",
    "### 2. Give me only the following: name of artist, song (sorted by itemInSession) and user (first and last name) for userid = 10, sessionid = 182\n",
    "    \n",
    "\n",
    "### 3. Give me every user name (first and last) in my music app history who listened to the song 'All Hands Against His Own'\n",
    "\n",
    "\n"
   ]
  },
  {
   "cell_type": "code",
   "execution_count": 152,
   "metadata": {},
   "outputs": [],
   "source": [
    "## TO-DO: Query 1:  Give me the artist, song title and song's length in the music app history that was heard during \\\n",
    "## sessionId = 338, and itemInSession = 4\n",
    "query =\"CREATE TABLE IF NOT EXISTS music_app_his_heard\"\n",
    "query = query + \"(session_Id int, item_num_in_session int, artist text, song text, length_of_the_song float, PRIMARY KEY \\\n",
    "                 (session_Id,item_num_in_session))\"\n",
    "try:\n",
    "    session.execute(query)\n",
    "except Exception as e:\n",
    "    print(e)\n",
    "\n",
    "\n",
    "                    "
   ]
  },
  {
   "cell_type": "code",
   "execution_count": 153,
   "metadata": {
    "scrolled": false
   },
   "outputs": [],
   "source": [
    "# We have provided part of the code to set up the CSV file. Please complete the Apache Cassandra code below#\n",
    "file = 'event_datafile_new.csv'\n",
    "\n",
    "with open(file, encoding = 'utf8') as f:\n",
    "    csvreader = csv.reader(f)\n",
    "    next(csvreader) # skip header\n",
    "    for line in csvreader:\n",
    "        #print(line)\n",
    "## TO-DO: Assign the INSERT statements into the `query` variable\n",
    "        query = \"INSERT INTO music_app_his_heard (session_Id, item_num_in_session, artist, song, length_of_the_song)\"\n",
    "        query = query + \"VALUES (%s, %s, %s, %s, %s)\"\n",
    "        ## TO-DO: Assign which column element should be assigned for each column in the INSERT statement.\n",
    "        ## For e.g., to INSERT artist_name and user first_name, you would change the code below to `line[0], line[1]`\n",
    "       \n",
    "        session.execute(query, (int(line[8]), int(line[3]), line[0], line[9], float(line[5])))\n",
    "        #print(session)"
   ]
  },
  {
   "cell_type": "markdown",
   "metadata": {},
   "source": [
    "#### Do a SELECT to verify that the data have been inserted into each table"
   ]
  },
  {
   "cell_type": "code",
   "execution_count": 154,
   "metadata": {
    "scrolled": true
   },
   "outputs": [
    {
     "name": "stdout",
     "output_type": "stream",
     "text": [
      "<cassandra.cluster.ResultSet object at 0x7faabc333ba8>\n",
      "Mr Oizo Flat 55 144.03872680664062\n"
     ]
    }
   ],
   "source": [
    "## TO-DO: Add in the SELECT statement to verify the data was entered into the table\n",
    "query = '''SELECT * FROM music_app_his_heard WHERE session_Id=139 and item_num_in_session=3'''\n",
    "try:\n",
    "    rows = session.execute(query)\n",
    "    #print(rows)\n",
    "except Exception as e:\n",
    "    print(e)\n",
    "for row in rows:\n",
    "    print(rows)\n",
    "    print(row.artist, row.song, row.length_of_the_song)\n"
   ]
  },
  {
   "cell_type": "markdown",
   "metadata": {},
   "source": [
    "### COPY AND REPEAT THE ABOVE THREE CELLS FOR EACH OF THE THREE QUESTIONS"
   ]
  },
  {
   "cell_type": "code",
   "execution_count": 155,
   "metadata": {},
   "outputs": [
    {
     "name": "stdout",
     "output_type": "stream",
     "text": [
      "['Mynt', 'Celeste', 'F', '2', 'Williams', '166.94812', 'free', 'Klamath Falls, OR', '52', 'Playa Haters', '53']\n",
      "['Taylor Swift', 'Celeste', 'F', '3', 'Williams', '230.47791', 'free', 'Klamath Falls, OR', '52', 'You Belong With Me', '53']\n",
      "['Amy Winehouse', 'Celeste', 'F', '4', 'Williams', '229.85098', 'free', 'Klamath Falls, OR', '52', 'Valerie', '53']\n",
      "['Jimmy Eat World', 'Celeste', 'F', '5', 'Williams', '285.83138', 'free', 'Klamath Falls, OR', '52', 'Dizzy', '53']\n",
      "['Maldita Nerea', 'Anabelle', 'F', '0', 'Simpson', '241.162', 'free', 'Philadelphia-Camden-Wilmington, PA-NJ-DE-MD', '158', 'Supelicula', '69']\n",
      "['Fluke', 'Connar', 'M', '0', 'Moreno', '478.92853', 'free', 'Houston-The Woodlands-Sugar Land, TX', '168', 'Bermuda', '62']\n",
      "['Habib KoitÃ\\x83Â©', 'Jayden', 'M', '0', 'Fox', '285.1522', 'free', 'New Orleans-Metairie, LA', '185', 'Din Din Wo', '101']\n",
      "['The Kooks', 'Sara', 'F', '0', 'Johnson', '132.25751', 'paid', 'Winston-Salem, NC', '152', \"Eddie's Gun\", '95']\n",
      "['Blues Traveler', 'Sara', 'F', '1', 'Johnson', '290.24608', 'paid', 'Winston-Salem, NC', '152', 'Hook', '95']\n",
      "['Coldplay', 'Sara', 'F', '2', 'Johnson', '298.762', 'paid', 'Winston-Salem, NC', '152', 'Shiver', '95']\n",
      "['Tom Petty And The Heartbreakers', 'Sara', 'F', '3', 'Johnson', '183.01342', 'paid', 'Winston-Salem, NC', '152', 'The Wild One_ Forever', '95']\n",
      "['Girl Talk', 'Sara', 'F', '4', 'Johnson', '173.24363', 'paid', 'Winston-Salem, NC', '152', 'Give and Go', '95']\n",
      "['Florence + The Machine', 'Sara', 'F', '5', 'Johnson', '258.55955', 'paid', 'Winston-Salem, NC', '152', 'Cosmic Love', '95']\n",
      "['Three Drives', 'Sara', 'F', '6', 'Johnson', '411.6371', 'paid', 'Winston-Salem, NC', '152', 'Greece 2000', '95']\n",
      "['Jonas Brothers', 'Sara', 'F', '7', 'Johnson', '192.36526', 'paid', 'Winston-Salem, NC', '152', 'Sorry', '95']\n",
      "['Tevin Campbell', 'Sara', 'F', '8', 'Johnson', '293.04118', 'paid', 'Winston-Salem, NC', '152', 'Round And Round (Soul Mix Edit)', '95']\n",
      "['Sting', 'Sara', 'F', '9', 'Johnson', '257.12281', 'paid', 'Winston-Salem, NC', '152', 'Windmills Of Your Mind', '95']\n",
      "['The Champs', 'Sara', 'F', '10', 'Johnson', '132.0224', 'paid', 'Winston-Salem, NC', '152', 'Tequila', '95']\n",
      "['RÃ\\x83Â¶yksopp', 'Sara', 'F', '11', 'Johnson', '214.93506', 'paid', 'Winston-Salem, NC', '152', 'Poor Leno Jakatta Radio Mix', '95']\n",
      "['Avenged Sevenfold', 'Sara', 'F', '12', 'Johnson', '312.11057', 'paid', 'Winston-Salem, NC', '152', 'Bat Country (Album Version)', '95']\n",
      "['Sam Cooke', 'Sara', 'F', '13', 'Johnson', '122.04363', 'paid', 'Winston-Salem, NC', '152', \"Ain't Misbehavin\", '95']\n",
      "['Apulanta', 'Sara', 'F', '14', 'Johnson', '219.53261', 'paid', 'Winston-Salem, NC', '152', 'Hallaa', '95']\n",
      "['Era', 'Sara', 'F', '15', 'Johnson', '200.56771', 'paid', 'Winston-Salem, NC', '152', 'Cathar Rhythm', '95']\n",
      "['Klaus Badelt', 'Sylvie', 'F', '1', 'Cruz', '128.62649', 'free', 'Washington-Arlington-Alexandria, DC-VA-MD-WV', '210', 'Moonlight Serenade', '10']\n",
      "['Parov Stelar', 'Sara', 'F', '16', 'Johnson', '281.5473', 'paid', 'Winston-Salem, NC', '152', 'KissKiss', '95']\n",
      "['Florence + The Machine', 'Lily', 'F', '0', 'Koch', '290.48118', 'paid', 'Chicago-Naperville-Elgin, IL-IN-WI', '199', 'Rabbit Heart (Raise It Up)', '15']\n",
      "['De La Soul', 'Sara', 'F', '17', 'Johnson', '221.72689', 'paid', 'Winston-Salem, NC', '152', 'Me_ Myself & I', '95']\n",
      "['Lil Wayne / T-Pain', 'Sara', 'F', '18', 'Johnson', '244.58404', 'paid', 'Winston-Salem, NC', '152', 'Got Money', '95']\n",
      "['Cher', 'Lily', 'F', '1', 'Koch', '167.41832', 'paid', 'Chicago-Naperville-Elgin, IL-IN-WI', '199', 'Milord', '15']\n",
      "['Edge Of Dawn', 'Lily', 'F', '2', 'Koch', '253.72689', 'paid', 'Chicago-Naperville-Elgin, IL-IN-WI', '199', 'Losing Ground', '15']\n",
      "['The Black Keys', 'Sara', 'F', '19', 'Johnson', '223.84281', 'paid', 'Winston-Salem, NC', '152', 'Elevator', '95']\n",
      "['Smokie Norful', 'Lily', 'F', '3', 'Koch', '337.84118', 'paid', 'Chicago-Naperville-Elgin, IL-IN-WI', '199', 'I Need You Now (Build A Bridge Version)', '15']\n",
      "['Adam Lambert', 'Sara', 'F', '20', 'Johnson', '227.39546', 'paid', 'Winston-Salem, NC', '152', 'Whataya Want From Me', '95']\n",
      "['Pulp', 'Sara', 'F', '21', 'Johnson', '208.95302', 'paid', 'Winston-Salem, NC', '152', 'Little Girl (With Blue Eyes)', '95']\n",
      "['Alliance Ethnik', 'Lily', 'F', '4', 'Koch', '265.76934', 'paid', 'Chicago-Naperville-Elgin, IL-IN-WI', '199', 'Creil City', '15']\n",
      "['Tricky', 'Sara', 'F', '22', 'Johnson', '212.79302', 'paid', 'Winston-Salem, NC', '152', 'Ponderosa', '95']\n",
      "['John Butler Trio', 'Lily', 'F', '5', 'Koch', '223.68608', 'paid', 'Chicago-Naperville-Elgin, IL-IN-WI', '199', 'Betterman (full-length/album version)', '15']\n",
      "['Culture Club', 'Sara', 'F', '23', 'Johnson', '282.48771', 'paid', 'Winston-Salem, NC', '152', 'Believe (Demo)', '95']\n",
      "['The Temper Trap', 'Lily', 'F', '6', 'Koch', '192.67873', 'paid', 'Chicago-Naperville-Elgin, IL-IN-WI', '199', 'Fader', '15']\n",
      "['La Mosca Tse-Tse', 'Sara', 'F', '24', 'Johnson', '195.082', 'paid', 'Winston-Salem, NC', '152', 'Patadas En El Corazon', '95']\n",
      "['Cute Is What We Aim For', 'Lily', 'F', '7', 'Koch', '201.22077', 'paid', 'Chicago-Naperville-Elgin, IL-IN-WI', '199', 'Finger Twist & Split (Album Version)', '15']\n",
      "['Jack Johnson', 'Sara', 'F', '25', 'Johnson', '236.72118', 'paid', 'Winston-Salem, NC', '152', 'Bubble Toes', '95']\n",
      "['Siriusmo', 'Lily', 'F', '8', 'Koch', '272.61342', 'paid', 'Chicago-Naperville-Elgin, IL-IN-WI', '199', 'Simple', '15']\n",
      "['Creedence Clearwater Revival', 'Sara', 'F', '26', 'Johnson', '312.89424', 'paid', 'Winston-Salem, NC', '152', \"Feelin' Blue\", '95']\n",
      "['Alberto Plaza', 'Lily', 'F', '9', 'Koch', '271.3073', 'paid', 'Chicago-Naperville-Elgin, IL-IN-WI', '199', 'No Seas Cruel (vivo)', '15']\n",
      "['Brand New', 'Sara', 'F', '27', 'Johnson', '188.49914', 'paid', 'Winston-Salem, NC', '152', 'Not The Sun', '95']\n",
      "['Sean Lennon', 'Lily', 'F', '10', 'Koch', '202.97098', 'paid', 'Chicago-Naperville-Elgin, IL-IN-WI', '199', 'Into The Sun', '15']\n",
      "['K-OS', 'Sara', 'F', '28', 'Johnson', '211.33016', 'paid', 'Winston-Salem, NC', '152', 'EMCEE Murdah', '95']\n",
      "['Nana Caymmi', 'Lily', 'F', '11', 'Koch', '251.0624', 'paid', 'Chicago-Naperville-Elgin, IL-IN-WI', '199', 'Acercate Mas (2000 Digital Remaster)', '15']\n",
      "['Casino Versus Japan', 'Sara', 'F', '29', 'Johnson', '86.30812', 'paid', 'Winston-Salem, NC', '152', 'Moonlupe', '95']\n",
      "['the bird and the bee', 'Sara', 'F', '30', 'Johnson', '281.23383', 'paid', 'Winston-Salem, NC', '152', 'Ray Gun', '95']\n",
      "['Skyforger', 'Lily', 'F', '12', 'Koch', '38.94812', 'paid', 'Chicago-Naperville-Elgin, IL-IN-WI', '199', \"In the Yard of the Father's Son\", '15']\n",
      "['Bryan Ferry', 'Lily', 'F', '13', 'Koch', '265.87383', 'paid', 'Chicago-Naperville-Elgin, IL-IN-WI', '199', 'Slave To Love (1999 Digital Remaster)', '15']\n",
      "['The Black Keys', 'Sara', 'F', '31', 'Johnson', '196.91057', 'paid', 'Winston-Salem, NC', '152', 'All Hands Against His Own', '95']\n",
      "['Foxy Shazam', 'Lily', 'F', '14', 'Koch', '201.74322', 'paid', 'Chicago-Naperville-Elgin, IL-IN-WI', '199', 'Wanna-be Angel (Album Version)', '15']\n",
      "['The Ruts', 'Sara', 'F', '32', 'Johnson', '338.96444', 'paid', 'Winston-Salem, NC', '152', 'West One (Shine On Me)', '95']\n",
      "[\"Old 97's\", 'Lily', 'F', '15', 'Koch', '231.28771', 'paid', 'Chicago-Naperville-Elgin, IL-IN-WI', '199', 'Victoria (LP Version)', '15']\n",
      "['Lonnie Gordon', 'Lily', 'F', '16', 'Koch', '181.21098', 'paid', 'Chicago-Naperville-Elgin, IL-IN-WI', '199', 'Catch You Baby (Steve Pitron & Max Sanna Radio Edit)', '15']\n",
      "['Bon Iver', 'Sara', 'F', '33', 'Johnson', '220.70812', 'paid', 'Winston-Salem, NC', '152', 'For Emma', '95']\n",
      "['Florence + The Machine', 'Lily', 'F', '17', 'Koch', '219.66322', 'paid', 'Chicago-Naperville-Elgin, IL-IN-WI', '199', 'Dog Days Are Over (Radio Edit)', '15']\n",
      "['Glen Washington', 'Sara', 'F', '34', 'Johnson', '193.82812', 'paid', 'Winston-Salem, NC', '152', 'One Of These Days', '95']\n",
      "['Mad Cobra', 'Lily', 'F', '18', 'Koch', '230.68689', 'paid', 'Chicago-Naperville-Elgin, IL-IN-WI', '199', 'Flex', '15']\n",
      "['Dropout Year', 'Sara', 'F', '35', 'Johnson', '227.36934', 'paid', 'Winston-Salem, NC', '152', 'This Notebook', '95']\n",
      "['Flogging Molly', 'Lily', 'F', '19', 'Koch', '260.75383', 'paid', 'Chicago-Naperville-Elgin, IL-IN-WI', '199', 'Punch Drunk Grinning Soul', '15']\n",
      "['Young Rebel Set', 'Sara', 'F', '36', 'Johnson', '248.55465', 'paid', 'Winston-Salem, NC', '152', 'If I Was', '95']\n",
      "['Sneaker Pimps', 'Lily', 'F', '20', 'Koch', '260.91057', 'paid', 'Chicago-Naperville-Elgin, IL-IN-WI', '199', 'Spin Spin Sugar', '15']\n",
      "['Righteous Brothers', 'Sara', 'F', '37', 'Johnson', '215.90159', 'paid', 'Winston-Salem, NC', '152', 'Unchained Melody', '95']\n",
      "['Me First And The Gimme Gimmes', 'Sara', 'F', '38', 'Johnson', '64.39138', 'paid', 'Winston-Salem, NC', '152', \"Jonny's Blessing\", '95']\n",
      "['Texas In July', 'Lily', 'F', '21', 'Koch', '190.69342', 'paid', 'Chicago-Naperville-Elgin, IL-IN-WI', '199', 'Aurora', '15']\n",
      "['Alice In Chains', 'Sara', 'F', '39', 'Johnson', '230.60853', 'paid', 'Winston-Salem, NC', '152', 'God Smack', '95']\n",
      "['10 Years', 'Lily', 'F', '22', 'Koch', '229.95546', 'paid', 'Chicago-Naperville-Elgin, IL-IN-WI', '199', 'Wasteland', '15']\n",
      "['Juanes', 'Lily', 'F', '23', 'Koch', '233.40363', 'paid', 'Chicago-Naperville-Elgin, IL-IN-WI', '199', 'No Siento Penas', '15']\n",
      "['Cat Stevens', 'Sara', 'F', '43', 'Johnson', '200.202', 'paid', 'Winston-Salem, NC', '152', 'Wild World', '95']\n",
      "['Passion Pit', 'Lily', 'F', '24', 'Koch', '174.75873', 'paid', 'Chicago-Naperville-Elgin, IL-IN-WI', '199', 'Sleepyhead', '15']\n",
      "['The Temper Trap', 'Sara', 'F', '44', 'Johnson', '192.67873', 'paid', 'Winston-Salem, NC', '152', 'Fader', '95']\n",
      "['OneRepublic', 'Lily', 'F', '25', 'Koch', '224.67873', 'paid', 'Chicago-Naperville-Elgin, IL-IN-WI', '199', 'Secrets', '15']\n",
      "['Diplo', 'Sara', 'F', '45', 'Johnson', '96.86159', 'paid', 'Winston-Salem, NC', '152', 'Florida', '95']\n",
      "['Afro Celt Sound System', 'Sara', 'F', '46', 'Johnson', '425.01179', 'paid', 'Winston-Salem, NC', '152', 'Even In My Dreams', '95']\n",
      "['PeterLicht', 'Lily', 'F', '26', 'Koch', '306.80771', 'paid', 'Chicago-Naperville-Elgin, IL-IN-WI', '199', 'Heiterkeit', '15']\n",
      "['M.A. Numminen', 'Sara', 'F', '47', 'Johnson', '166.55628', 'paid', 'Winston-Salem, NC', '152', 'TULENLIEKKI', '95']\n",
      "['Limp Bizkit', 'Sara', 'F', '49', 'Johnson', '214.5171', 'paid', 'Winston-Salem, NC', '152', \"Rollin' (Air Raid Vehicle)\", '95']\n",
      "['Downhere', 'Sara', 'F', '50', 'Johnson', '230.71302', 'paid', 'Winston-Salem, NC', '152', 'In America (Album Version)', '95']\n",
      "['Roots Manuva', 'Sara', 'F', '51', 'Johnson', '233.92608', 'paid', 'Winston-Salem, NC', '152', 'No Love', '95']\n",
      "['Lykke Li', 'Sara', 'F', '52', 'Johnson', '162.19383', 'paid', 'Winston-Salem, NC', '152', 'Let It Fall', '95']\n",
      "['Plan B', 'Sara', 'F', '53', 'Johnson', '222.82404', 'paid', 'Winston-Salem, NC', '152', 'Free', '95']\n",
      "['Octopus Project', 'Sara', 'F', '54', 'Johnson', '498.33751', 'paid', 'Winston-Salem, NC', '152', 'Hypnopaedia', '95']\n",
      "['OneRepublic', 'Sara', 'F', '55', 'Johnson', '224.67873', 'paid', 'Winston-Salem, NC', '152', 'Secrets', '95']\n",
      "['Gilberto Santa Rosa', 'Sara', 'F', '56', 'Johnson', '272.16934', 'paid', 'Winston-Salem, NC', '152', 'La Sigo Amando Tanto', '95']\n",
      "['Eric Clapton', 'Sara', 'F', '57', 'Johnson', '271.80363', 'paid', 'Winston-Salem, NC', '152', 'Tears In Heaven', '95']\n",
      "['ARRESTED DEVELOPMENT', 'Sara', 'F', '58', 'Johnson', '200.98567', 'paid', 'Winston-Salem, NC', '152', 'Fountain Of Youth', '95']\n",
      "['Future Rock', 'Sara', 'F', '60', 'Johnson', '239.90812', 'paid', 'Winston-Salem, NC', '152', 'Gears', '95']\n",
      "['Steppenwolf', 'Sara', 'F', '61', 'Johnson', '208.14322', 'paid', 'Winston-Salem, NC', '152', 'Born To Be Wild', '95']\n",
      "['Jason Mraz & Colbie Caillat', 'Sara', 'F', '62', 'Johnson', '189.6224', 'paid', 'Winston-Salem, NC', '152', 'Lucky (Album Version)', '95']\n",
      "['Leonard Cohen', 'Sara', 'F', '63', 'Johnson', '298.57914', 'paid', 'Winston-Salem, NC', '152', 'The Stranger Song', '95']\n",
      "['Bright Eyes', 'Ayla', 'F', '0', 'Johnson', '279.09179', 'free', 'Santa Rosa, CA', '135', \"Kathy with a K's Song\", '63']\n",
      "['The Smiths', 'Chloe', 'F', '1', 'Cuevas', '196.67546', 'free', 'San Francisco-Oakland-Hayward, CA', '195', 'The Boy With The Thorn In His Side', '49']\n",
      "['Quique Gonzalez', 'Chloe', 'F', '2', 'Cuevas', '214.20363', 'free', 'San Francisco-Oakland-Hayward, CA', '195', 'Cuando Eramos Reyes', '49']\n",
      "['Muse', 'Chloe', 'F', '3', 'Cuevas', '210.46812', 'free', 'San Francisco-Oakland-Hayward, CA', '195', 'Pink Ego Box', '49']\n",
      "['Sugarland', 'Cecilia', 'F', '0', 'Owens', '247.77098', 'free', 'Atlanta-Sandy Springs-Roswell, GA', '5', 'Just Might (Make Me Believe)', '6']\n",
      "['A Hope For Home', 'Cecilia', 'F', '1', 'Owens', '388.38812', 'free', 'Atlanta-Sandy Springs-Roswell, GA', '5', 'Absolution: Of Flight and Failure', '6']\n",
      "[\"Des'ree\", 'Kaylee', 'F', '1', 'Summers', '246.30812', 'free', 'Phoenix-Mesa-Scottsdale, AZ', '139', 'You Gotta Be', '8']\n",
      "['Mr Oizo', 'Kaylee', 'F', '3', 'Summers', '144.03873', 'free', 'Phoenix-Mesa-Scottsdale, AZ', '139', 'Flat 55', '8']\n",
      "['Tamba Trio', 'Kaylee', 'F', '4', 'Summers', '177.18812', 'free', 'Phoenix-Mesa-Scottsdale, AZ', '139', 'Quem Quiser Encontrar O Amor', '8']\n",
      "['The Mars Volta', 'Kaylee', 'F', '5', 'Summers', '380.42077', 'free', 'Phoenix-Mesa-Scottsdale, AZ', '139', 'Eriatarka', '8']\n",
      "['Infected Mushroom', 'Kaylee', 'F', '6', 'Summers', '440.2673', 'free', 'Phoenix-Mesa-Scottsdale, AZ', '139', 'Becoming Insane', '8']\n",
      "['Blue October / Imogen Heap', 'Kaylee', 'F', '7', 'Summers', '241.3971', 'free', 'Phoenix-Mesa-Scottsdale, AZ', '139', 'Congratulations', '8']\n",
      "['Girl Talk', 'Kaylee', 'F', '8', 'Summers', '160.15628', 'free', 'Phoenix-Mesa-Scottsdale, AZ', '139', 'Once again', '8']\n",
      "['Black Eyed Peas', 'Sylvie', 'F', '0', 'Cruz', '214.93506', 'free', 'Washington-Arlington-Alexandria, DC-VA-MD-WV', '9', 'Pump It', '10']\n",
      "['Fall Out Boy', 'Ryan', 'M', '1', 'Smith', '200.72444', 'free', 'San Jose-Sunnyvale-Santa Clara, CA', '169', 'Nobody Puts Baby In The Corner', '26']\n",
      "['M.I.A.', 'Ryan', 'M', '2', 'Smith', '233.7171', 'free', 'San Jose-Sunnyvale-Santa Clara, CA', '169', 'Mango Pickle Down River (With The Wilcannia Mob)', '26']\n",
      "['Survivor', 'Jayden', 'M', '0', 'Fox', '245.36771', 'free', 'New Orleans-Metairie, LA', '100', 'Eye Of The Tiger', '101']\n"
     ]
    }
   ],
   "source": [
    "## TO-DO: Query 2: Give me only the following: name of artist, song (sorted by itemInSession) and user (first and last name)\\\n",
    "## for userid = 10, sessionid = 182\n",
    "\n",
    "\n",
    "query =\"CREATE TABLE IF NOT EXISTS music_app_user\"\n",
    "query = query + \"(user_id int, item_num_in_session int, session_Id int, artist text, song text, user text, PRIMARY KEY \\\n",
    "                 ((user_id, session_Id), item_num_in_session))\"\n",
    "\n",
    "try:\n",
    "    session.execute(query)\n",
    "except Exception as e:\n",
    "    print(e)\n",
    "    \n",
    "with open(file, encoding = 'utf8') as f:\n",
    "    csvreader = csv.reader(f)\n",
    "    next(csvreader)\n",
    "    for line in csvreader:\n",
    "        print(line)\n",
    "        query = \"INSERT INTO music_app_user (user_id, item_num_in_session, session_Id, artist, song, user)\"\n",
    "        query = query + \"VALUES (%s, %s, %s, %s, %s, %s)\"\n",
    "        ## TO-DO: Assign which column element should be assigned for each column in the INSERT statement.\n",
    "        ## For e.g., to INSERT artist_name and user first_name, you would change the code below to `line[0], line[1]`\n",
    "       \n",
    "        session.execute(query, (int(line[10]), int(line[3]), int(line[8]), line[0], line[9], (line[1]+' '+line[4])))\n",
    "        #print(session)"
   ]
  },
  {
   "cell_type": "code",
   "execution_count": 156,
   "metadata": {},
   "outputs": [
    {
     "name": "stdout",
     "output_type": "stream",
     "text": [
      "Survivor Eye Of The Tiger Jayden Fox\n"
     ]
    }
   ],
   "source": [
    "query = '''SELECT * FROM music_app_user WHERE user_id = 101 AND session_ID = 100 ORDER BY item_num_in_session'''\n",
    "\n",
    "rows = session.execute(query)\n",
    "for row in rows:\n",
    "    print(row.artist, row.song , row.user)"
   ]
  },
  {
   "cell_type": "code",
   "execution_count": 157,
   "metadata": {},
   "outputs": [
    {
     "name": "stdout",
     "output_type": "stream",
     "text": [
      "['Mynt', 'Celeste', 'F', '2', 'Williams', '166.94812', 'free', 'Klamath Falls, OR', '52', 'Playa Haters', '53']\n",
      "<cassandra.cluster.Session object at 0x7faabc3ad6d8>\n",
      "['Taylor Swift', 'Celeste', 'F', '3', 'Williams', '230.47791', 'free', 'Klamath Falls, OR', '52', 'You Belong With Me', '53']\n",
      "<cassandra.cluster.Session object at 0x7faabc3ad6d8>\n",
      "['Amy Winehouse', 'Celeste', 'F', '4', 'Williams', '229.85098', 'free', 'Klamath Falls, OR', '52', 'Valerie', '53']\n",
      "<cassandra.cluster.Session object at 0x7faabc3ad6d8>\n",
      "['Jimmy Eat World', 'Celeste', 'F', '5', 'Williams', '285.83138', 'free', 'Klamath Falls, OR', '52', 'Dizzy', '53']\n",
      "<cassandra.cluster.Session object at 0x7faabc3ad6d8>\n",
      "['Maldita Nerea', 'Anabelle', 'F', '0', 'Simpson', '241.162', 'free', 'Philadelphia-Camden-Wilmington, PA-NJ-DE-MD', '158', 'Supelicula', '69']\n",
      "<cassandra.cluster.Session object at 0x7faabc3ad6d8>\n",
      "['Fluke', 'Connar', 'M', '0', 'Moreno', '478.92853', 'free', 'Houston-The Woodlands-Sugar Land, TX', '168', 'Bermuda', '62']\n",
      "<cassandra.cluster.Session object at 0x7faabc3ad6d8>\n",
      "['Habib KoitÃ\\x83Â©', 'Jayden', 'M', '0', 'Fox', '285.1522', 'free', 'New Orleans-Metairie, LA', '185', 'Din Din Wo', '101']\n",
      "<cassandra.cluster.Session object at 0x7faabc3ad6d8>\n",
      "['The Kooks', 'Sara', 'F', '0', 'Johnson', '132.25751', 'paid', 'Winston-Salem, NC', '152', \"Eddie's Gun\", '95']\n",
      "<cassandra.cluster.Session object at 0x7faabc3ad6d8>\n",
      "['Blues Traveler', 'Sara', 'F', '1', 'Johnson', '290.24608', 'paid', 'Winston-Salem, NC', '152', 'Hook', '95']\n",
      "<cassandra.cluster.Session object at 0x7faabc3ad6d8>\n",
      "['Coldplay', 'Sara', 'F', '2', 'Johnson', '298.762', 'paid', 'Winston-Salem, NC', '152', 'Shiver', '95']\n",
      "<cassandra.cluster.Session object at 0x7faabc3ad6d8>\n",
      "['Tom Petty And The Heartbreakers', 'Sara', 'F', '3', 'Johnson', '183.01342', 'paid', 'Winston-Salem, NC', '152', 'The Wild One_ Forever', '95']\n",
      "<cassandra.cluster.Session object at 0x7faabc3ad6d8>\n",
      "['Girl Talk', 'Sara', 'F', '4', 'Johnson', '173.24363', 'paid', 'Winston-Salem, NC', '152', 'Give and Go', '95']\n",
      "<cassandra.cluster.Session object at 0x7faabc3ad6d8>\n",
      "['Florence + The Machine', 'Sara', 'F', '5', 'Johnson', '258.55955', 'paid', 'Winston-Salem, NC', '152', 'Cosmic Love', '95']\n",
      "<cassandra.cluster.Session object at 0x7faabc3ad6d8>\n",
      "['Three Drives', 'Sara', 'F', '6', 'Johnson', '411.6371', 'paid', 'Winston-Salem, NC', '152', 'Greece 2000', '95']\n",
      "<cassandra.cluster.Session object at 0x7faabc3ad6d8>\n",
      "['Jonas Brothers', 'Sara', 'F', '7', 'Johnson', '192.36526', 'paid', 'Winston-Salem, NC', '152', 'Sorry', '95']\n",
      "<cassandra.cluster.Session object at 0x7faabc3ad6d8>\n",
      "['Tevin Campbell', 'Sara', 'F', '8', 'Johnson', '293.04118', 'paid', 'Winston-Salem, NC', '152', 'Round And Round (Soul Mix Edit)', '95']\n",
      "<cassandra.cluster.Session object at 0x7faabc3ad6d8>\n",
      "['Sting', 'Sara', 'F', '9', 'Johnson', '257.12281', 'paid', 'Winston-Salem, NC', '152', 'Windmills Of Your Mind', '95']\n",
      "<cassandra.cluster.Session object at 0x7faabc3ad6d8>\n",
      "['The Champs', 'Sara', 'F', '10', 'Johnson', '132.0224', 'paid', 'Winston-Salem, NC', '152', 'Tequila', '95']\n",
      "<cassandra.cluster.Session object at 0x7faabc3ad6d8>\n",
      "['RÃ\\x83Â¶yksopp', 'Sara', 'F', '11', 'Johnson', '214.93506', 'paid', 'Winston-Salem, NC', '152', 'Poor Leno Jakatta Radio Mix', '95']\n",
      "<cassandra.cluster.Session object at 0x7faabc3ad6d8>\n",
      "['Avenged Sevenfold', 'Sara', 'F', '12', 'Johnson', '312.11057', 'paid', 'Winston-Salem, NC', '152', 'Bat Country (Album Version)', '95']\n",
      "<cassandra.cluster.Session object at 0x7faabc3ad6d8>\n",
      "['Sam Cooke', 'Sara', 'F', '13', 'Johnson', '122.04363', 'paid', 'Winston-Salem, NC', '152', \"Ain't Misbehavin\", '95']\n",
      "<cassandra.cluster.Session object at 0x7faabc3ad6d8>\n",
      "['Apulanta', 'Sara', 'F', '14', 'Johnson', '219.53261', 'paid', 'Winston-Salem, NC', '152', 'Hallaa', '95']\n",
      "<cassandra.cluster.Session object at 0x7faabc3ad6d8>\n",
      "['Era', 'Sara', 'F', '15', 'Johnson', '200.56771', 'paid', 'Winston-Salem, NC', '152', 'Cathar Rhythm', '95']\n",
      "<cassandra.cluster.Session object at 0x7faabc3ad6d8>\n",
      "['Klaus Badelt', 'Sylvie', 'F', '1', 'Cruz', '128.62649', 'free', 'Washington-Arlington-Alexandria, DC-VA-MD-WV', '210', 'Moonlight Serenade', '10']\n",
      "<cassandra.cluster.Session object at 0x7faabc3ad6d8>\n",
      "['Parov Stelar', 'Sara', 'F', '16', 'Johnson', '281.5473', 'paid', 'Winston-Salem, NC', '152', 'KissKiss', '95']\n",
      "<cassandra.cluster.Session object at 0x7faabc3ad6d8>\n",
      "['Florence + The Machine', 'Lily', 'F', '0', 'Koch', '290.48118', 'paid', 'Chicago-Naperville-Elgin, IL-IN-WI', '199', 'Rabbit Heart (Raise It Up)', '15']\n",
      "<cassandra.cluster.Session object at 0x7faabc3ad6d8>\n",
      "['De La Soul', 'Sara', 'F', '17', 'Johnson', '221.72689', 'paid', 'Winston-Salem, NC', '152', 'Me_ Myself & I', '95']\n",
      "<cassandra.cluster.Session object at 0x7faabc3ad6d8>\n",
      "['Lil Wayne / T-Pain', 'Sara', 'F', '18', 'Johnson', '244.58404', 'paid', 'Winston-Salem, NC', '152', 'Got Money', '95']\n",
      "<cassandra.cluster.Session object at 0x7faabc3ad6d8>\n",
      "['Cher', 'Lily', 'F', '1', 'Koch', '167.41832', 'paid', 'Chicago-Naperville-Elgin, IL-IN-WI', '199', 'Milord', '15']\n",
      "<cassandra.cluster.Session object at 0x7faabc3ad6d8>\n",
      "['Edge Of Dawn', 'Lily', 'F', '2', 'Koch', '253.72689', 'paid', 'Chicago-Naperville-Elgin, IL-IN-WI', '199', 'Losing Ground', '15']\n",
      "<cassandra.cluster.Session object at 0x7faabc3ad6d8>\n",
      "['The Black Keys', 'Sara', 'F', '19', 'Johnson', '223.84281', 'paid', 'Winston-Salem, NC', '152', 'Elevator', '95']\n",
      "<cassandra.cluster.Session object at 0x7faabc3ad6d8>\n",
      "['Smokie Norful', 'Lily', 'F', '3', 'Koch', '337.84118', 'paid', 'Chicago-Naperville-Elgin, IL-IN-WI', '199', 'I Need You Now (Build A Bridge Version)', '15']\n",
      "<cassandra.cluster.Session object at 0x7faabc3ad6d8>\n",
      "['Adam Lambert', 'Sara', 'F', '20', 'Johnson', '227.39546', 'paid', 'Winston-Salem, NC', '152', 'Whataya Want From Me', '95']\n",
      "<cassandra.cluster.Session object at 0x7faabc3ad6d8>\n",
      "['Pulp', 'Sara', 'F', '21', 'Johnson', '208.95302', 'paid', 'Winston-Salem, NC', '152', 'Little Girl (With Blue Eyes)', '95']\n",
      "<cassandra.cluster.Session object at 0x7faabc3ad6d8>\n",
      "['Alliance Ethnik', 'Lily', 'F', '4', 'Koch', '265.76934', 'paid', 'Chicago-Naperville-Elgin, IL-IN-WI', '199', 'Creil City', '15']\n",
      "<cassandra.cluster.Session object at 0x7faabc3ad6d8>\n",
      "['Tricky', 'Sara', 'F', '22', 'Johnson', '212.79302', 'paid', 'Winston-Salem, NC', '152', 'Ponderosa', '95']\n",
      "<cassandra.cluster.Session object at 0x7faabc3ad6d8>\n",
      "['John Butler Trio', 'Lily', 'F', '5', 'Koch', '223.68608', 'paid', 'Chicago-Naperville-Elgin, IL-IN-WI', '199', 'Betterman (full-length/album version)', '15']\n",
      "<cassandra.cluster.Session object at 0x7faabc3ad6d8>\n",
      "['Culture Club', 'Sara', 'F', '23', 'Johnson', '282.48771', 'paid', 'Winston-Salem, NC', '152', 'Believe (Demo)', '95']\n",
      "<cassandra.cluster.Session object at 0x7faabc3ad6d8>\n",
      "['The Temper Trap', 'Lily', 'F', '6', 'Koch', '192.67873', 'paid', 'Chicago-Naperville-Elgin, IL-IN-WI', '199', 'Fader', '15']\n",
      "<cassandra.cluster.Session object at 0x7faabc3ad6d8>\n",
      "['La Mosca Tse-Tse', 'Sara', 'F', '24', 'Johnson', '195.082', 'paid', 'Winston-Salem, NC', '152', 'Patadas En El Corazon', '95']\n",
      "<cassandra.cluster.Session object at 0x7faabc3ad6d8>\n",
      "['Cute Is What We Aim For', 'Lily', 'F', '7', 'Koch', '201.22077', 'paid', 'Chicago-Naperville-Elgin, IL-IN-WI', '199', 'Finger Twist & Split (Album Version)', '15']\n",
      "<cassandra.cluster.Session object at 0x7faabc3ad6d8>\n",
      "['Jack Johnson', 'Sara', 'F', '25', 'Johnson', '236.72118', 'paid', 'Winston-Salem, NC', '152', 'Bubble Toes', '95']\n",
      "<cassandra.cluster.Session object at 0x7faabc3ad6d8>\n",
      "['Siriusmo', 'Lily', 'F', '8', 'Koch', '272.61342', 'paid', 'Chicago-Naperville-Elgin, IL-IN-WI', '199', 'Simple', '15']\n",
      "<cassandra.cluster.Session object at 0x7faabc3ad6d8>\n",
      "['Creedence Clearwater Revival', 'Sara', 'F', '26', 'Johnson', '312.89424', 'paid', 'Winston-Salem, NC', '152', \"Feelin' Blue\", '95']\n",
      "<cassandra.cluster.Session object at 0x7faabc3ad6d8>\n",
      "['Alberto Plaza', 'Lily', 'F', '9', 'Koch', '271.3073', 'paid', 'Chicago-Naperville-Elgin, IL-IN-WI', '199', 'No Seas Cruel (vivo)', '15']\n",
      "<cassandra.cluster.Session object at 0x7faabc3ad6d8>\n",
      "['Brand New', 'Sara', 'F', '27', 'Johnson', '188.49914', 'paid', 'Winston-Salem, NC', '152', 'Not The Sun', '95']\n",
      "<cassandra.cluster.Session object at 0x7faabc3ad6d8>\n",
      "['Sean Lennon', 'Lily', 'F', '10', 'Koch', '202.97098', 'paid', 'Chicago-Naperville-Elgin, IL-IN-WI', '199', 'Into The Sun', '15']\n",
      "<cassandra.cluster.Session object at 0x7faabc3ad6d8>\n",
      "['K-OS', 'Sara', 'F', '28', 'Johnson', '211.33016', 'paid', 'Winston-Salem, NC', '152', 'EMCEE Murdah', '95']\n",
      "<cassandra.cluster.Session object at 0x7faabc3ad6d8>\n",
      "['Nana Caymmi', 'Lily', 'F', '11', 'Koch', '251.0624', 'paid', 'Chicago-Naperville-Elgin, IL-IN-WI', '199', 'Acercate Mas (2000 Digital Remaster)', '15']\n",
      "<cassandra.cluster.Session object at 0x7faabc3ad6d8>\n",
      "['Casino Versus Japan', 'Sara', 'F', '29', 'Johnson', '86.30812', 'paid', 'Winston-Salem, NC', '152', 'Moonlupe', '95']\n",
      "<cassandra.cluster.Session object at 0x7faabc3ad6d8>\n",
      "['the bird and the bee', 'Sara', 'F', '30', 'Johnson', '281.23383', 'paid', 'Winston-Salem, NC', '152', 'Ray Gun', '95']\n",
      "<cassandra.cluster.Session object at 0x7faabc3ad6d8>\n",
      "['Skyforger', 'Lily', 'F', '12', 'Koch', '38.94812', 'paid', 'Chicago-Naperville-Elgin, IL-IN-WI', '199', \"In the Yard of the Father's Son\", '15']\n",
      "<cassandra.cluster.Session object at 0x7faabc3ad6d8>\n",
      "['Bryan Ferry', 'Lily', 'F', '13', 'Koch', '265.87383', 'paid', 'Chicago-Naperville-Elgin, IL-IN-WI', '199', 'Slave To Love (1999 Digital Remaster)', '15']\n",
      "<cassandra.cluster.Session object at 0x7faabc3ad6d8>\n",
      "['The Black Keys', 'Sara', 'F', '31', 'Johnson', '196.91057', 'paid', 'Winston-Salem, NC', '152', 'All Hands Against His Own', '95']\n",
      "<cassandra.cluster.Session object at 0x7faabc3ad6d8>\n",
      "['Foxy Shazam', 'Lily', 'F', '14', 'Koch', '201.74322', 'paid', 'Chicago-Naperville-Elgin, IL-IN-WI', '199', 'Wanna-be Angel (Album Version)', '15']\n",
      "<cassandra.cluster.Session object at 0x7faabc3ad6d8>\n",
      "['The Ruts', 'Sara', 'F', '32', 'Johnson', '338.96444', 'paid', 'Winston-Salem, NC', '152', 'West One (Shine On Me)', '95']\n",
      "<cassandra.cluster.Session object at 0x7faabc3ad6d8>\n",
      "[\"Old 97's\", 'Lily', 'F', '15', 'Koch', '231.28771', 'paid', 'Chicago-Naperville-Elgin, IL-IN-WI', '199', 'Victoria (LP Version)', '15']\n",
      "<cassandra.cluster.Session object at 0x7faabc3ad6d8>\n",
      "['Lonnie Gordon', 'Lily', 'F', '16', 'Koch', '181.21098', 'paid', 'Chicago-Naperville-Elgin, IL-IN-WI', '199', 'Catch You Baby (Steve Pitron & Max Sanna Radio Edit)', '15']\n",
      "<cassandra.cluster.Session object at 0x7faabc3ad6d8>\n",
      "['Bon Iver', 'Sara', 'F', '33', 'Johnson', '220.70812', 'paid', 'Winston-Salem, NC', '152', 'For Emma', '95']\n",
      "<cassandra.cluster.Session object at 0x7faabc3ad6d8>\n",
      "['Florence + The Machine', 'Lily', 'F', '17', 'Koch', '219.66322', 'paid', 'Chicago-Naperville-Elgin, IL-IN-WI', '199', 'Dog Days Are Over (Radio Edit)', '15']\n",
      "<cassandra.cluster.Session object at 0x7faabc3ad6d8>\n",
      "['Glen Washington', 'Sara', 'F', '34', 'Johnson', '193.82812', 'paid', 'Winston-Salem, NC', '152', 'One Of These Days', '95']\n",
      "<cassandra.cluster.Session object at 0x7faabc3ad6d8>\n",
      "['Mad Cobra', 'Lily', 'F', '18', 'Koch', '230.68689', 'paid', 'Chicago-Naperville-Elgin, IL-IN-WI', '199', 'Flex', '15']\n",
      "<cassandra.cluster.Session object at 0x7faabc3ad6d8>\n",
      "['Dropout Year', 'Sara', 'F', '35', 'Johnson', '227.36934', 'paid', 'Winston-Salem, NC', '152', 'This Notebook', '95']\n",
      "<cassandra.cluster.Session object at 0x7faabc3ad6d8>\n",
      "['Flogging Molly', 'Lily', 'F', '19', 'Koch', '260.75383', 'paid', 'Chicago-Naperville-Elgin, IL-IN-WI', '199', 'Punch Drunk Grinning Soul', '15']\n",
      "<cassandra.cluster.Session object at 0x7faabc3ad6d8>\n",
      "['Young Rebel Set', 'Sara', 'F', '36', 'Johnson', '248.55465', 'paid', 'Winston-Salem, NC', '152', 'If I Was', '95']\n",
      "<cassandra.cluster.Session object at 0x7faabc3ad6d8>\n",
      "['Sneaker Pimps', 'Lily', 'F', '20', 'Koch', '260.91057', 'paid', 'Chicago-Naperville-Elgin, IL-IN-WI', '199', 'Spin Spin Sugar', '15']\n",
      "<cassandra.cluster.Session object at 0x7faabc3ad6d8>\n",
      "['Righteous Brothers', 'Sara', 'F', '37', 'Johnson', '215.90159', 'paid', 'Winston-Salem, NC', '152', 'Unchained Melody', '95']\n",
      "<cassandra.cluster.Session object at 0x7faabc3ad6d8>\n",
      "['Me First And The Gimme Gimmes', 'Sara', 'F', '38', 'Johnson', '64.39138', 'paid', 'Winston-Salem, NC', '152', \"Jonny's Blessing\", '95']\n",
      "<cassandra.cluster.Session object at 0x7faabc3ad6d8>\n",
      "['Texas In July', 'Lily', 'F', '21', 'Koch', '190.69342', 'paid', 'Chicago-Naperville-Elgin, IL-IN-WI', '199', 'Aurora', '15']\n",
      "<cassandra.cluster.Session object at 0x7faabc3ad6d8>\n",
      "['Alice In Chains', 'Sara', 'F', '39', 'Johnson', '230.60853', 'paid', 'Winston-Salem, NC', '152', 'God Smack', '95']\n",
      "<cassandra.cluster.Session object at 0x7faabc3ad6d8>\n",
      "['10 Years', 'Lily', 'F', '22', 'Koch', '229.95546', 'paid', 'Chicago-Naperville-Elgin, IL-IN-WI', '199', 'Wasteland', '15']\n",
      "<cassandra.cluster.Session object at 0x7faabc3ad6d8>\n",
      "['Juanes', 'Lily', 'F', '23', 'Koch', '233.40363', 'paid', 'Chicago-Naperville-Elgin, IL-IN-WI', '199', 'No Siento Penas', '15']\n",
      "<cassandra.cluster.Session object at 0x7faabc3ad6d8>\n",
      "['Cat Stevens', 'Sara', 'F', '43', 'Johnson', '200.202', 'paid', 'Winston-Salem, NC', '152', 'Wild World', '95']\n",
      "<cassandra.cluster.Session object at 0x7faabc3ad6d8>\n",
      "['Passion Pit', 'Lily', 'F', '24', 'Koch', '174.75873', 'paid', 'Chicago-Naperville-Elgin, IL-IN-WI', '199', 'Sleepyhead', '15']\n",
      "<cassandra.cluster.Session object at 0x7faabc3ad6d8>\n",
      "['The Temper Trap', 'Sara', 'F', '44', 'Johnson', '192.67873', 'paid', 'Winston-Salem, NC', '152', 'Fader', '95']\n",
      "<cassandra.cluster.Session object at 0x7faabc3ad6d8>\n",
      "['OneRepublic', 'Lily', 'F', '25', 'Koch', '224.67873', 'paid', 'Chicago-Naperville-Elgin, IL-IN-WI', '199', 'Secrets', '15']\n",
      "<cassandra.cluster.Session object at 0x7faabc3ad6d8>\n",
      "['Diplo', 'Sara', 'F', '45', 'Johnson', '96.86159', 'paid', 'Winston-Salem, NC', '152', 'Florida', '95']\n",
      "<cassandra.cluster.Session object at 0x7faabc3ad6d8>\n",
      "['Afro Celt Sound System', 'Sara', 'F', '46', 'Johnson', '425.01179', 'paid', 'Winston-Salem, NC', '152', 'Even In My Dreams', '95']\n",
      "<cassandra.cluster.Session object at 0x7faabc3ad6d8>\n",
      "['PeterLicht', 'Lily', 'F', '26', 'Koch', '306.80771', 'paid', 'Chicago-Naperville-Elgin, IL-IN-WI', '199', 'Heiterkeit', '15']\n",
      "<cassandra.cluster.Session object at 0x7faabc3ad6d8>\n",
      "['M.A. Numminen', 'Sara', 'F', '47', 'Johnson', '166.55628', 'paid', 'Winston-Salem, NC', '152', 'TULENLIEKKI', '95']\n",
      "<cassandra.cluster.Session object at 0x7faabc3ad6d8>\n",
      "['Limp Bizkit', 'Sara', 'F', '49', 'Johnson', '214.5171', 'paid', 'Winston-Salem, NC', '152', \"Rollin' (Air Raid Vehicle)\", '95']\n",
      "<cassandra.cluster.Session object at 0x7faabc3ad6d8>\n",
      "['Downhere', 'Sara', 'F', '50', 'Johnson', '230.71302', 'paid', 'Winston-Salem, NC', '152', 'In America (Album Version)', '95']\n",
      "<cassandra.cluster.Session object at 0x7faabc3ad6d8>\n",
      "['Roots Manuva', 'Sara', 'F', '51', 'Johnson', '233.92608', 'paid', 'Winston-Salem, NC', '152', 'No Love', '95']\n",
      "<cassandra.cluster.Session object at 0x7faabc3ad6d8>\n",
      "['Lykke Li', 'Sara', 'F', '52', 'Johnson', '162.19383', 'paid', 'Winston-Salem, NC', '152', 'Let It Fall', '95']\n",
      "<cassandra.cluster.Session object at 0x7faabc3ad6d8>\n",
      "['Plan B', 'Sara', 'F', '53', 'Johnson', '222.82404', 'paid', 'Winston-Salem, NC', '152', 'Free', '95']\n",
      "<cassandra.cluster.Session object at 0x7faabc3ad6d8>\n",
      "['Octopus Project', 'Sara', 'F', '54', 'Johnson', '498.33751', 'paid', 'Winston-Salem, NC', '152', 'Hypnopaedia', '95']\n",
      "<cassandra.cluster.Session object at 0x7faabc3ad6d8>\n",
      "['OneRepublic', 'Sara', 'F', '55', 'Johnson', '224.67873', 'paid', 'Winston-Salem, NC', '152', 'Secrets', '95']\n",
      "<cassandra.cluster.Session object at 0x7faabc3ad6d8>\n",
      "['Gilberto Santa Rosa', 'Sara', 'F', '56', 'Johnson', '272.16934', 'paid', 'Winston-Salem, NC', '152', 'La Sigo Amando Tanto', '95']\n",
      "<cassandra.cluster.Session object at 0x7faabc3ad6d8>\n",
      "['Eric Clapton', 'Sara', 'F', '57', 'Johnson', '271.80363', 'paid', 'Winston-Salem, NC', '152', 'Tears In Heaven', '95']\n",
      "<cassandra.cluster.Session object at 0x7faabc3ad6d8>\n",
      "['ARRESTED DEVELOPMENT', 'Sara', 'F', '58', 'Johnson', '200.98567', 'paid', 'Winston-Salem, NC', '152', 'Fountain Of Youth', '95']\n",
      "<cassandra.cluster.Session object at 0x7faabc3ad6d8>\n",
      "['Future Rock', 'Sara', 'F', '60', 'Johnson', '239.90812', 'paid', 'Winston-Salem, NC', '152', 'Gears', '95']\n",
      "<cassandra.cluster.Session object at 0x7faabc3ad6d8>\n",
      "['Steppenwolf', 'Sara', 'F', '61', 'Johnson', '208.14322', 'paid', 'Winston-Salem, NC', '152', 'Born To Be Wild', '95']\n",
      "<cassandra.cluster.Session object at 0x7faabc3ad6d8>\n",
      "['Jason Mraz & Colbie Caillat', 'Sara', 'F', '62', 'Johnson', '189.6224', 'paid', 'Winston-Salem, NC', '152', 'Lucky (Album Version)', '95']\n",
      "<cassandra.cluster.Session object at 0x7faabc3ad6d8>\n",
      "['Leonard Cohen', 'Sara', 'F', '63', 'Johnson', '298.57914', 'paid', 'Winston-Salem, NC', '152', 'The Stranger Song', '95']\n",
      "<cassandra.cluster.Session object at 0x7faabc3ad6d8>\n",
      "['Bright Eyes', 'Ayla', 'F', '0', 'Johnson', '279.09179', 'free', 'Santa Rosa, CA', '135', \"Kathy with a K's Song\", '63']\n",
      "<cassandra.cluster.Session object at 0x7faabc3ad6d8>\n",
      "['The Smiths', 'Chloe', 'F', '1', 'Cuevas', '196.67546', 'free', 'San Francisco-Oakland-Hayward, CA', '195', 'The Boy With The Thorn In His Side', '49']\n",
      "<cassandra.cluster.Session object at 0x7faabc3ad6d8>\n",
      "['Quique Gonzalez', 'Chloe', 'F', '2', 'Cuevas', '214.20363', 'free', 'San Francisco-Oakland-Hayward, CA', '195', 'Cuando Eramos Reyes', '49']\n",
      "<cassandra.cluster.Session object at 0x7faabc3ad6d8>\n",
      "['Muse', 'Chloe', 'F', '3', 'Cuevas', '210.46812', 'free', 'San Francisco-Oakland-Hayward, CA', '195', 'Pink Ego Box', '49']\n",
      "<cassandra.cluster.Session object at 0x7faabc3ad6d8>\n",
      "['Sugarland', 'Cecilia', 'F', '0', 'Owens', '247.77098', 'free', 'Atlanta-Sandy Springs-Roswell, GA', '5', 'Just Might (Make Me Believe)', '6']\n",
      "<cassandra.cluster.Session object at 0x7faabc3ad6d8>\n",
      "['A Hope For Home', 'Cecilia', 'F', '1', 'Owens', '388.38812', 'free', 'Atlanta-Sandy Springs-Roswell, GA', '5', 'Absolution: Of Flight and Failure', '6']\n",
      "<cassandra.cluster.Session object at 0x7faabc3ad6d8>\n",
      "[\"Des'ree\", 'Kaylee', 'F', '1', 'Summers', '246.30812', 'free', 'Phoenix-Mesa-Scottsdale, AZ', '139', 'You Gotta Be', '8']\n",
      "<cassandra.cluster.Session object at 0x7faabc3ad6d8>\n",
      "['Mr Oizo', 'Kaylee', 'F', '3', 'Summers', '144.03873', 'free', 'Phoenix-Mesa-Scottsdale, AZ', '139', 'Flat 55', '8']\n",
      "<cassandra.cluster.Session object at 0x7faabc3ad6d8>\n",
      "['Tamba Trio', 'Kaylee', 'F', '4', 'Summers', '177.18812', 'free', 'Phoenix-Mesa-Scottsdale, AZ', '139', 'Quem Quiser Encontrar O Amor', '8']\n",
      "<cassandra.cluster.Session object at 0x7faabc3ad6d8>\n",
      "['The Mars Volta', 'Kaylee', 'F', '5', 'Summers', '380.42077', 'free', 'Phoenix-Mesa-Scottsdale, AZ', '139', 'Eriatarka', '8']\n",
      "<cassandra.cluster.Session object at 0x7faabc3ad6d8>\n",
      "['Infected Mushroom', 'Kaylee', 'F', '6', 'Summers', '440.2673', 'free', 'Phoenix-Mesa-Scottsdale, AZ', '139', 'Becoming Insane', '8']\n",
      "<cassandra.cluster.Session object at 0x7faabc3ad6d8>\n",
      "['Blue October / Imogen Heap', 'Kaylee', 'F', '7', 'Summers', '241.3971', 'free', 'Phoenix-Mesa-Scottsdale, AZ', '139', 'Congratulations', '8']\n",
      "<cassandra.cluster.Session object at 0x7faabc3ad6d8>\n",
      "['Girl Talk', 'Kaylee', 'F', '8', 'Summers', '160.15628', 'free', 'Phoenix-Mesa-Scottsdale, AZ', '139', 'Once again', '8']\n",
      "<cassandra.cluster.Session object at 0x7faabc3ad6d8>\n",
      "['Black Eyed Peas', 'Sylvie', 'F', '0', 'Cruz', '214.93506', 'free', 'Washington-Arlington-Alexandria, DC-VA-MD-WV', '9', 'Pump It', '10']\n",
      "<cassandra.cluster.Session object at 0x7faabc3ad6d8>\n",
      "['Fall Out Boy', 'Ryan', 'M', '1', 'Smith', '200.72444', 'free', 'San Jose-Sunnyvale-Santa Clara, CA', '169', 'Nobody Puts Baby In The Corner', '26']\n",
      "<cassandra.cluster.Session object at 0x7faabc3ad6d8>\n",
      "['M.I.A.', 'Ryan', 'M', '2', 'Smith', '233.7171', 'free', 'San Jose-Sunnyvale-Santa Clara, CA', '169', 'Mango Pickle Down River (With The Wilcannia Mob)', '26']\n",
      "<cassandra.cluster.Session object at 0x7faabc3ad6d8>\n",
      "['Survivor', 'Jayden', 'M', '0', 'Fox', '245.36771', 'free', 'New Orleans-Metairie, LA', '100', 'Eye Of The Tiger', '101']\n",
      "<cassandra.cluster.Session object at 0x7faabc3ad6d8>\n"
     ]
    }
   ],
   "source": [
    "## TO-DO: Query 3: Give me every user name (first and last) in my music app history who listened to the song 'All Hands Against His Own'\n",
    "\n",
    "query =\"CREATE TABLE IF NOT EXISTS music_app_who_listen\"\n",
    "query = query + \"(song text, artist text, user text, user_id int, session_Id int, PRIMARY KEY \\\n",
    "                 (song, artist, user))\"\n",
    "\n",
    "try:\n",
    "    session.execute(query)\n",
    "except Exception as e:\n",
    "    print(e)\n",
    "    \n",
    "\n",
    "with open(file, encoding = 'utf8') as f:\n",
    "    csvreader = csv.reader(f)\n",
    "    next(csvreader)\n",
    "    for line in csvreader:\n",
    "        print(line)\n",
    "        query = \"INSERT INTO music_app_who_listen (song, artist, user, user_id, session_Id)\"\n",
    "        query = query + \"VALUES (%s, %s, %s, %s, %s)\"\n",
    "        ## TO-DO: Assign which column element should be assigned for each column in the INSERT statement.\n",
    "        ## For e.g., to INSERT artist_name and user first_name, you would change the code below to `line[0], line[1]`\n",
    "       \n",
    "        session.execute(query, (line[9],line[0],(line[1]+' '+line[4]), int(line[10]), int(line[8])))\n",
    "        print(session)\n",
    "                    "
   ]
  },
  {
   "cell_type": "code",
   "execution_count": 158,
   "metadata": {},
   "outputs": [
    {
     "name": "stdout",
     "output_type": "stream",
     "text": [
      "Sara Johnson\n"
     ]
    }
   ],
   "source": [
    "query = '''SELECT * FROM music_app_who_listen WHERE song = 'All Hands Against His Own' '''\n",
    "\n",
    "rows = session.execute(query)\n",
    "for row in rows:\n",
    "    print(row.user)"
   ]
  },
  {
   "cell_type": "markdown",
   "metadata": {},
   "source": [
    "### Drop the tables before closing out the sessions"
   ]
  },
  {
   "cell_type": "code",
   "execution_count": 159,
   "metadata": {},
   "outputs": [],
   "source": [
    "## TO-DO: Drop the table before closing out the sessions"
   ]
  },
  {
   "cell_type": "code",
   "execution_count": 160,
   "metadata": {},
   "outputs": [
    {
     "data": {
      "text/plain": [
       "<cassandra.cluster.ResultSet at 0x7faabc463860>"
      ]
     },
     "execution_count": 160,
     "metadata": {},
     "output_type": "execute_result"
    }
   ],
   "source": [
    "session.execute('DROP TABLE IF EXISTS music_app_his_heard')\n",
    "session.execute('DROP TABLE IF EXISTS music_app_user')\n",
    "session.execute('DROP TABLE IF EXISTS music_app_who_listen')"
   ]
  },
  {
   "cell_type": "markdown",
   "metadata": {},
   "source": [
    "### Close the session and cluster connection¶"
   ]
  },
  {
   "cell_type": "code",
   "execution_count": 161,
   "metadata": {},
   "outputs": [],
   "source": [
    "session.shutdown()\n",
    "cluster.shutdown()"
   ]
  },
  {
   "cell_type": "code",
   "execution_count": null,
   "metadata": {},
   "outputs": [],
   "source": []
  },
  {
   "cell_type": "code",
   "execution_count": null,
   "metadata": {},
   "outputs": [],
   "source": []
  }
 ],
 "metadata": {
  "kernelspec": {
   "display_name": "Python 3",
   "language": "python",
   "name": "python3"
  },
  "language_info": {
   "codemirror_mode": {
    "name": "ipython",
    "version": 3
   },
   "file_extension": ".py",
   "mimetype": "text/x-python",
   "name": "python",
   "nbconvert_exporter": "python",
   "pygments_lexer": "ipython3",
   "version": "3.6.3"
  }
 },
 "nbformat": 4,
 "nbformat_minor": 2
}
